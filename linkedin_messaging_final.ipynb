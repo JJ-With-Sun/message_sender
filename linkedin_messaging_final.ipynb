{
 "cells": [
  {
   "cell_type": "code",
   "execution_count": 9,
   "id": "96a9a464",
   "metadata": {},
   "outputs": [],
   "source": [
    "from selenium.webdriver.common.by import By\n",
    "from selenium import webdriver\n",
    "from selenium.webdriver.common.keys import Keys\n",
    "from selenium.webdriver.support.ui import WebDriverWait\n",
    "from selenium.webdriver.support import expected_conditions as EC \n",
    "import time\n",
    "import os\n",
    "from dotenv import load_dotenv\n",
    "import pandas as pd"
   ]
  },
  {
   "cell_type": "code",
   "execution_count": 10,
   "id": "755ad95c",
   "metadata": {},
   "outputs": [],
   "source": [
    "# # 계정 정보\n",
    "# email = 'cyj041909@gmail.com'\n",
    "# password ='youngjin0419'\n",
    "    \n",
    "# # 인재 정보\n",
    "# data = {\n",
    "#     'talent_name': ['조현진', '이준하'],\n",
    "#     'profile_url': ['https://www.linkedin.com/in/antoniahcho/', 'https://www.linkedin.com/in/leejunha/'],\n",
    "#     'chatbot_link': ['chatbot_link1', 'chatbot_link2'],\n",
    "# }"
   ]
  },
  {
   "cell_type": "code",
   "execution_count": 11,
   "id": "2c62ae30",
   "metadata": {},
   "outputs": [],
   "source": [
    "# 계정 정보\n",
    "email = 'cyj041909@gmail.com'\n",
    "password ='youngjin0419'\n",
    "\n",
    "# 인재 정보\n",
    "data = {\n",
    "    'talent_name': ['이준하', '조재신'],\n",
    "    'profile_url': ['https://www.linkedin.com/in/leejunha/', 'https://www.linkedin.com/in/jaeshincho/'],\n",
    "    'chatbot_link': ['https://ca7afd07c45230a631.gradio.live', 'https://ca7afd07c45230a631.gradio.live'],\n",
    "}"
   ]
  },
  {
   "cell_type": "code",
   "execution_count": 12,
   "id": "3dc546ea",
   "metadata": {},
   "outputs": [],
   "source": [
    "#     df = pd.DataFrame(data)\n",
    "\n",
    "\n",
    "#     for i, r in df.iterrows():\n",
    "#     # 이메일 설정\n",
    "#         talent_name = r['talent_name']\n",
    "#         profile_url = r['profile_url']\n",
    "#         chatbot_link = r['chatbot_link']"
   ]
  },
  {
   "cell_type": "code",
   "execution_count": 13,
   "id": "9cca074d",
   "metadata": {},
   "outputs": [],
   "source": [
    "talent_name = data['talent_name'][1]\n",
    "chatbot_link = data['chatbot_link'][1]"
   ]
  },
  {
   "cell_type": "code",
   "execution_count": 14,
   "id": "ebca7703",
   "metadata": {},
   "outputs": [],
   "source": [
    "message = {\n",
    "    'title': '안녕하세요, {talent_name}님 삼정 KPMG입니다',\n",
    "    'content':'''안녕하세요, {talent_name}님.\n",
    "저는 삼정 KPMG에서 Recruiting을 담당하고 있는 엽송키즈입니다.\n",
    "\n",
    "귀하께서는 우리 회사에 맞는 인재로 보이며,\n",
    "우리 팀에서 귀화와 이야기를 나누어보고 싶어 연락드렸습니다.\n",
    "우리 KPMG는 경영 컨설팅, 세무 및 회계 서비스, 디지털 전환과 같은 다양한 서비스를 제공합니다.\n",
    "\n",
    "당장 이직 의사가 없으셔도 괜찮습니다.\n",
    "괜찮으시다면 시간을 내어주실 수 있을지요?\n",
    "저희 서비스와 팀에 대해 소개해 드리고, {talent_name}님의 현재 상황이 어떠한지, 앞으로 어떤 커리어패스를 그리고 계시는지에 대해 꼭 이야기 나눠보고 싶습니다.\n",
    "\n",
    "회사에 대해 더 자세한 정보를 원하신다면, 아래 챗봇 링크를 통해 우리 회사에 대한 더 많은 정보를 얻을 수 있습니다.\n",
    "- 챗봇 링크: {chatbot_link}\n",
    "\n",
    "그럼 살펴보시고 편히 회신 부탁 드리겠습니다.\n",
    "감사합니다.\n",
    "삼정 KPMG HR 담당자 엽송키즈'''\n",
    "}"
   ]
  },
  {
   "cell_type": "code",
   "execution_count": 16,
   "id": "ef37d44c",
   "metadata": {},
   "outputs": [],
   "source": [
    "options = webdriver.ChromeOptions()\n",
    "options.add_argument('headless')\n",
    "user_data = '/home/kic/yskids/outbound/Linkedin_message_sender/UserData'\n",
    "options.add_argument(f'--user-data-dir={user_data}')\n",
    "options.add_argument(f'profile-directory=Default')\n",
    "driver = webdriver.Chrome(options=options)"
   ]
  },
  {
   "cell_type": "code",
   "execution_count": 17,
   "id": "121b3af0",
   "metadata": {},
   "outputs": [],
   "source": [
    "driver.get(data['profile_url'][1])"
   ]
  },
  {
   "cell_type": "code",
   "execution_count": 21,
   "id": "88eac548",
   "metadata": {},
   "outputs": [
    {
     "data": {
      "text/plain": [
       "'https://www.linkedin.com/authwall?trk=gf&trkInfo=AQHLGcldt-FLRAAAAY22y9wwisvV71sco2B9LLa7w3x7KkFuQ9Nlij0IBfXPwNG5lbThLeVrl_RZZuSXe4JMQRBYIFP7-SF03Be2whm2_zEiwsCu8D103zFVMvXjanDrP0kp_qk=&original_referer=&sessionRedirect=https%3A%2F%2Fwww.linkedin.com%2Fin%2Fjaeshincho%2F'"
      ]
     },
     "execution_count": 21,
     "metadata": {},
     "output_type": "execute_result"
    }
   ],
   "source": [
    "driver.current_url"
   ]
  },
  {
   "cell_type": "code",
   "execution_count": null,
   "id": "e9eeb447",
   "metadata": {},
   "outputs": [],
   "source": [
    "/html/body/div[5]/div[3]/div/div/div[2]/div/div/main/section[1]/div[2]/div[3]/div/div[1]/button"
   ]
  },
  {
   "cell_type": "code",
   "execution_count": 23,
   "id": "b35d2787",
   "metadata": {},
   "outputs": [
    {
     "ename": "NoSuchElementException",
     "evalue": "Message: no such element: Unable to locate element: {\"method\":\"xpath\",\"selector\":\"/html/body/div[5]/div[3]/div/div/div[2]/div/div/main/section[1]/div[2]/div[3]/div/div[1]/button\"}\n  (Session info: chrome-headless-shell=121.0.6167.160); For documentation on this error, please visit: https://www.selenium.dev/documentation/webdriver/troubleshooting/errors#no-such-element-exception\nStacktrace:\n#0 0x564ee4453303 <unknown>\n#1 0x564ee41382b7 <unknown>\n#2 0x564ee4183cc0 <unknown>\n#3 0x564ee4183db1 <unknown>\n#4 0x564ee41c7b44 <unknown>\n#5 0x564ee41a63ad <unknown>\n#6 0x564ee41c507c <unknown>\n#7 0x564ee41a6123 <unknown>\n#8 0x564ee4176095 <unknown>\n#9 0x564ee417709e <unknown>\n#10 0x564ee44176ab <unknown>\n#11 0x564ee441b4ba <unknown>\n#12 0x564ee4403f85 <unknown>\n#13 0x564ee441c12f <unknown>\n#14 0x564ee43e7e6f <unknown>\n#15 0x564ee44405f8 <unknown>\n#16 0x564ee44407c2 <unknown>\n#17 0x564ee44524a4 <unknown>\n#18 0x7faaf08f5609 start_thread\n",
     "output_type": "error",
     "traceback": [
      "\u001b[0;31m---------------------------------------------------------------------------\u001b[0m",
      "\u001b[0;31mNoSuchElementException\u001b[0m                    Traceback (most recent call last)",
      "Cell \u001b[0;32mIn[23], line 1\u001b[0m\n\u001b[0;32m----> 1\u001b[0m log_in_button\u001b[38;5;241m=\u001b[39m \u001b[43mdriver\u001b[49m\u001b[38;5;241;43m.\u001b[39;49m\u001b[43mfind_element\u001b[49m\u001b[43m(\u001b[49m\u001b[43mBy\u001b[49m\u001b[38;5;241;43m.\u001b[39;49m\u001b[43mXPATH\u001b[49m\u001b[43m,\u001b[49m\u001b[38;5;124;43m'\u001b[39;49m\u001b[38;5;124;43m/html/body/div[5]/div[3]/div/div/div[2]/div/div/main/section[1]/div[2]/div[3]/div/div[1]/button\u001b[39;49m\u001b[38;5;124;43m'\u001b[39;49m\u001b[43m)\u001b[49m\n",
      "File \u001b[0;32m/anaconda/envs/yskids/lib/python3.8/site-packages/selenium/webdriver/remote/webdriver.py:741\u001b[0m, in \u001b[0;36mWebDriver.find_element\u001b[0;34m(self, by, value)\u001b[0m\n\u001b[1;32m    738\u001b[0m     by \u001b[38;5;241m=\u001b[39m By\u001b[38;5;241m.\u001b[39mCSS_SELECTOR\n\u001b[1;32m    739\u001b[0m     value \u001b[38;5;241m=\u001b[39m \u001b[38;5;124mf\u001b[39m\u001b[38;5;124m'\u001b[39m\u001b[38;5;124m[name=\u001b[39m\u001b[38;5;124m\"\u001b[39m\u001b[38;5;132;01m{\u001b[39;00mvalue\u001b[38;5;132;01m}\u001b[39;00m\u001b[38;5;124m\"\u001b[39m\u001b[38;5;124m]\u001b[39m\u001b[38;5;124m'\u001b[39m\n\u001b[0;32m--> 741\u001b[0m \u001b[38;5;28;01mreturn\u001b[39;00m \u001b[38;5;28;43mself\u001b[39;49m\u001b[38;5;241;43m.\u001b[39;49m\u001b[43mexecute\u001b[49m\u001b[43m(\u001b[49m\u001b[43mCommand\u001b[49m\u001b[38;5;241;43m.\u001b[39;49m\u001b[43mFIND_ELEMENT\u001b[49m\u001b[43m,\u001b[49m\u001b[43m \u001b[49m\u001b[43m{\u001b[49m\u001b[38;5;124;43m\"\u001b[39;49m\u001b[38;5;124;43musing\u001b[39;49m\u001b[38;5;124;43m\"\u001b[39;49m\u001b[43m:\u001b[49m\u001b[43m \u001b[49m\u001b[43mby\u001b[49m\u001b[43m,\u001b[49m\u001b[43m \u001b[49m\u001b[38;5;124;43m\"\u001b[39;49m\u001b[38;5;124;43mvalue\u001b[39;49m\u001b[38;5;124;43m\"\u001b[39;49m\u001b[43m:\u001b[49m\u001b[43m \u001b[49m\u001b[43mvalue\u001b[49m\u001b[43m}\u001b[49m\u001b[43m)\u001b[49m[\u001b[38;5;124m\"\u001b[39m\u001b[38;5;124mvalue\u001b[39m\u001b[38;5;124m\"\u001b[39m]\n",
      "File \u001b[0;32m/anaconda/envs/yskids/lib/python3.8/site-packages/selenium/webdriver/remote/webdriver.py:347\u001b[0m, in \u001b[0;36mWebDriver.execute\u001b[0;34m(self, driver_command, params)\u001b[0m\n\u001b[1;32m    345\u001b[0m response \u001b[38;5;241m=\u001b[39m \u001b[38;5;28mself\u001b[39m\u001b[38;5;241m.\u001b[39mcommand_executor\u001b[38;5;241m.\u001b[39mexecute(driver_command, params)\n\u001b[1;32m    346\u001b[0m \u001b[38;5;28;01mif\u001b[39;00m response:\n\u001b[0;32m--> 347\u001b[0m     \u001b[38;5;28;43mself\u001b[39;49m\u001b[38;5;241;43m.\u001b[39;49m\u001b[43merror_handler\u001b[49m\u001b[38;5;241;43m.\u001b[39;49m\u001b[43mcheck_response\u001b[49m\u001b[43m(\u001b[49m\u001b[43mresponse\u001b[49m\u001b[43m)\u001b[49m\n\u001b[1;32m    348\u001b[0m     response[\u001b[38;5;124m\"\u001b[39m\u001b[38;5;124mvalue\u001b[39m\u001b[38;5;124m\"\u001b[39m] \u001b[38;5;241m=\u001b[39m \u001b[38;5;28mself\u001b[39m\u001b[38;5;241m.\u001b[39m_unwrap_value(response\u001b[38;5;241m.\u001b[39mget(\u001b[38;5;124m\"\u001b[39m\u001b[38;5;124mvalue\u001b[39m\u001b[38;5;124m\"\u001b[39m, \u001b[38;5;28;01mNone\u001b[39;00m))\n\u001b[1;32m    349\u001b[0m     \u001b[38;5;28;01mreturn\u001b[39;00m response\n",
      "File \u001b[0;32m/anaconda/envs/yskids/lib/python3.8/site-packages/selenium/webdriver/remote/errorhandler.py:229\u001b[0m, in \u001b[0;36mErrorHandler.check_response\u001b[0;34m(self, response)\u001b[0m\n\u001b[1;32m    227\u001b[0m         alert_text \u001b[38;5;241m=\u001b[39m value[\u001b[38;5;124m\"\u001b[39m\u001b[38;5;124malert\u001b[39m\u001b[38;5;124m\"\u001b[39m]\u001b[38;5;241m.\u001b[39mget(\u001b[38;5;124m\"\u001b[39m\u001b[38;5;124mtext\u001b[39m\u001b[38;5;124m\"\u001b[39m)\n\u001b[1;32m    228\u001b[0m     \u001b[38;5;28;01mraise\u001b[39;00m exception_class(message, screen, stacktrace, alert_text)  \u001b[38;5;66;03m# type: ignore[call-arg]  # mypy is not smart enough here\u001b[39;00m\n\u001b[0;32m--> 229\u001b[0m \u001b[38;5;28;01mraise\u001b[39;00m exception_class(message, screen, stacktrace)\n",
      "\u001b[0;31mNoSuchElementException\u001b[0m: Message: no such element: Unable to locate element: {\"method\":\"xpath\",\"selector\":\"/html/body/div[5]/div[3]/div/div/div[2]/div/div/main/section[1]/div[2]/div[3]/div/div[1]/button\"}\n  (Session info: chrome-headless-shell=121.0.6167.160); For documentation on this error, please visit: https://www.selenium.dev/documentation/webdriver/troubleshooting/errors#no-such-element-exception\nStacktrace:\n#0 0x564ee4453303 <unknown>\n#1 0x564ee41382b7 <unknown>\n#2 0x564ee4183cc0 <unknown>\n#3 0x564ee4183db1 <unknown>\n#4 0x564ee41c7b44 <unknown>\n#5 0x564ee41a63ad <unknown>\n#6 0x564ee41c507c <unknown>\n#7 0x564ee41a6123 <unknown>\n#8 0x564ee4176095 <unknown>\n#9 0x564ee417709e <unknown>\n#10 0x564ee44176ab <unknown>\n#11 0x564ee441b4ba <unknown>\n#12 0x564ee4403f85 <unknown>\n#13 0x564ee441c12f <unknown>\n#14 0x564ee43e7e6f <unknown>\n#15 0x564ee44405f8 <unknown>\n#16 0x564ee44407c2 <unknown>\n#17 0x564ee44524a4 <unknown>\n#18 0x7faaf08f5609 start_thread\n"
     ]
    }
   ],
   "source": [
    "log_in_button= driver.find_element(By.XPATH,'/html/body/div[5]/div[3]/div/div/div[2]/div/div/main/section[1]/div[2]/div[3]/div/div[1]/button')"
   ]
  },
  {
   "cell_type": "code",
   "execution_count": 44,
   "id": "9846546b",
   "metadata": {},
   "outputs": [],
   "source": [
    "log_in_button.click()"
   ]
  },
  {
   "cell_type": "code",
   "execution_count": 45,
   "id": "fc2cb7bd",
   "metadata": {},
   "outputs": [],
   "source": [
    "try:\n",
    "    title = driver.find_element(By.XPATH,'/html/body/div[5]/div[4]/aside[1]/div[2]/div[1]/div[2]/div/div[3]/div[2]/div/div/input')\n",
    "    content = driver.find_element(By.XPATH,'/html/body/div[5]/div[4]/aside[1]/div[2]/div[1]/div[2]/div/div[3]/div[3]/form/div[3]/div/div/div[1]')\n",
    "    title.send_keys(message['title'])\n",
    "    content.send_keys(message['content'])\n",
    "    send_button = driver.find_element(By.XPATH, '/html/body/div[5]/div[4]/aside[1]/div[2]/div[1]/div[2]/div/div[3]/div[3]/form/footer/div[2]')\n",
    "    send_button.click()\n",
    "except:\n",
    "    content =  driver.find_element(By.XPATH,'/html/body/div[5]/div[4]/aside[1]/div[2]/div[1]/div[2]/div/form/div[3]/div/div[1]/div[1]')\n",
    "    content.send_keys(message['content'])\n",
    "    time.sleep(5)\n",
    "    send_button = driver.find_element(By.XPATH, '/html/body/div[5]/div[4]/aside[1]/div[2]/div[1]/div[2]/div/form/footer/div[2]/div[1]')\n",
    "    send_button.click()\n"
   ]
  },
  {
   "cell_type": "code",
   "execution_count": 46,
   "id": "480212c1",
   "metadata": {},
   "outputs": [],
   "source": [
    "delete_button = driver.find_element(By.XPATH, '/html/body/div[5]/div[4]/aside[1]/div[2]/div[1]/header/div[4]/button[3]')"
   ]
  },
  {
   "cell_type": "code",
   "execution_count": 48,
   "id": "567648d1",
   "metadata": {},
   "outputs": [],
   "source": [
    "delete_button.click()"
   ]
  },
  {
   "cell_type": "code",
   "execution_count": 36,
   "id": "bbe45d53",
   "metadata": {},
   "outputs": [],
   "source": [
    "driver.quit()"
   ]
  },
  {
   "cell_type": "code",
   "execution_count": 52,
   "id": "fb2da7e5",
   "metadata": {},
   "outputs": [
    {
     "name": "stdout",
     "output_type": "stream",
     "text": [
      "message button clicked\n",
      "message sent\n",
      "message button clicked\n",
      "message sent\n",
      "message button clicked\n",
      "message sent\n"
     ]
    }
   ],
   "source": [
    "from selenium.webdriver.common.by import By\n",
    "from selenium import webdriver\n",
    "from selenium.webdriver.common.keys import Keys\n",
    "from selenium.webdriver.support.ui import WebDriverWait\n",
    "from selenium.webdriver.support import expected_conditions as EC \n",
    "import time\n",
    "import os\n",
    "import pandas as pd\n",
    "from dotenv import load_dotenv\n",
    "\n",
    "\n",
    "\n",
    "class LinkedInMessageSender:\n",
    "    def __init__(self, email, password):\n",
    "        self.email = email\n",
    "        self.password = password\n",
    "        self.options = webdriver.ChromeOptions()\n",
    "        user_data = r\"C:\\Users\\jenni\\AppData\\Local\\Google\\Chrome\\User Data\"\n",
    "        self.options.add_argument(f'--user-data-dir={user_data}')\n",
    "        self.options.add_argument(f'profile-directory=Default')\n",
    "        self.driver = webdriver.Chrome(options=self.options)\n",
    "        self.driver.maximize_window()\n",
    "    #메시지 전송\n",
    "    def send_message(self, profile_url, message):\n",
    "        self.driver.get(profile_url)\n",
    "        time.sleep(15)\n",
    "        message_button= self.driver.find_element(By.XPATH,'/html/body/div[5]/div[3]/div/div/div[2]/div/div/main/section[1]/div[2]/div[3]/div/div[1]/button/span')\n",
    "        message_button.click()\n",
    "        self.driver.implicitly_wait(1)\n",
    "        print(\"message button clicked\")\n",
    "        try:\n",
    "            title = self.driver.find_element(By.XPATH,'/html/body/div[5]/div[4]/aside[1]/div[2]/div[1]/div[2]/div/div[3]/div[2]/div/div/input')\n",
    "            content = self.driver.find_element(By.XPATH,'/html/body/div[5]/div[4]/aside[1]/div[2]/div[1]/div[2]/div/div[3]/div[3]/form/div[3]/div/div/div[1]')\n",
    "            title.send_keys(message['title'])\n",
    "            content.send_keys(message['content'])\n",
    "            time.sleep(5)\n",
    "            send_button = self.driver.find_element(By.XPATH, '/html/body/div[5]/div[4]/aside[1]/div[2]/div[1]/div[2]/div/div[3]/div[3]/form/footer/div[2]')\n",
    "            send_button.click()\n",
    "        except:\n",
    "            content =  self.driver.find_element(By.XPATH,'/html/body/div[5]/div[4]/aside[1]/div[2]/div[1]/div[2]/div/form/div[3]/div/div[1]/div[1]')\n",
    "            content.send_keys(message['content'])\n",
    "            time.sleep(5)\n",
    "            send_button = self.driver.find_element(By.XPATH, '/html/body/div[5]/div[4]/aside[1]/div[2]/div[1]/div[2]/div/form/footer/div[2]/div[1]')\n",
    "            send_button.click()\n",
    "            time.sleep(3)\n",
    "            delete_button = self.driver.find_element(By.XPATH, '/html/body/div[5]/div[4]/aside[1]/div[2]/div[1]/header/div[4]/button[3]')\n",
    "            time.sleep(3)\n",
    "            delete_button.click()\n",
    "        print(\"message sent\")\n",
    "\n",
    "    def close(self):\n",
    "        self.driver.quit()\n",
    "\n",
    "if __name__ == \"__main__\":\n",
    "    # 계정 정보 입력\n",
    "    load_dotenv('./credentials/.env')\n",
    "    email = os.getenv('EMAIL')\n",
    "    password = os.getenv('PASSWORD')\n",
    "\n",
    "    \n",
    "    # 인재 정보\n",
    "    data = {\n",
    "        'talent_name': ['조현진', '이준린', '이준하'],\n",
    "        'profile_url': ['https://www.linkedin.com/in/antoniahcho/', 'https://www.linkedin.com/in/%EC%A4%80%EB%A6%B0-%EC%9D%B4-46a4602aa/','https://www.linkedin.com/in/leejunha/'],\n",
    "        'chatbot_link': ['chatbot_link1', 'chatbot_link2', 'chatbot_link3'],\n",
    "    }\n",
    "\n",
    "\n",
    "    df = pd.DataFrame(data)\n",
    "\n",
    "\n",
    "    for i, r in df.iterrows():\n",
    "    # 이메일 설정\n",
    "        talent_name = r['talent_name']\n",
    "        profile_url = r['profile_url']\n",
    "        chatbot_link = r['chatbot_link']\n",
    "    \n",
    "    \n",
    "        # 메시지 정보\n",
    "        message = {\n",
    "            'title': f'안녕하세요, {talent_name}님 삼정 KPMG 엽송키즈입니다',\n",
    "            'content':f'''안녕하세요, {talent_name}님.\n",
    "                저는 삼정 KPMG에서 Recruiting을 담당하고 있는 엽송키즈입니다.\n",
    "\n",
    "                귀하께서는 우리 회사에 맞는 인재로 보이며,\n",
    "                우리 팀에서 귀화와 이야기를 나누어보고 싶어 연락드렸습니다.\n",
    "                우리 KPMG는 경영 컨설팅, 세무 및 회계 서비스, 디지털 전환과 같은 다양한 서비스를 제공합니다.\n",
    "\n",
    "                당장 이직 의사가 없으셔도 괜찮습니다.\n",
    "                괜찮으시다면 시간을 내어주실 수 있을지요?\n",
    "                저희 서비스와 팀에 대해 소개해 드리고, {talent_name}님의 현재 상황이 어떠한지, 앞으로 어떤 커리어패스를 그리고 계시는지에 대해 꼭 이야기 나눠보고 싶습니다.\n",
    "\n",
    "                회사에 대해 더 자세한 정보를 원하신다면, 아래 챗봇 링크를 통해 우리 회사에 대한 더 많은 정보를 얻을 수 있습니다.\n",
    "                - 챗봇 링크: {chatbot_link}\n",
    "\n",
    "                그럼 살펴보시고 편히 회신 부탁 드리겠습니다.\n",
    "                감사합니다.\n",
    "                삼정 KPMG HR 담당자 엽송키즈'''\n",
    "        }\n",
    "    \n",
    "        # LinkedIn 메시지 보내기\n",
    "        sender = LinkedInMessageSender(email, password)\n",
    "        sender.send_message(profile_url, message)\n",
    "        sender.close()"
   ]
  },
  {
   "cell_type": "code",
   "execution_count": null,
   "id": "0b84408f",
   "metadata": {},
   "outputs": [],
   "source": []
  }
 ],
 "metadata": {
  "kernelspec": {
   "display_name": "Python 3 (ipykernel)",
   "language": "python",
   "name": "python3"
  },
  "language_info": {
   "codemirror_mode": {
    "name": "ipython",
    "version": 3
   },
   "file_extension": ".py",
   "mimetype": "text/x-python",
   "name": "python",
   "nbconvert_exporter": "python",
   "pygments_lexer": "ipython3",
   "version": "3.8.0"
  }
 },
 "nbformat": 4,
 "nbformat_minor": 5
}
